{
  "nbformat": 4,
  "nbformat_minor": 0,
  "metadata": {
    "colab": {
      "provenance": [],
      "authorship_tag": "ABX9TyNXm9P4Zz8Omhv54vsDlyHz"
    },
    "kernelspec": {
      "name": "python3",
      "display_name": "Python 3"
    },
    "language_info": {
      "name": "python"
    }
  },
  "cells": [
    {
      "cell_type": "markdown",
      "source": [
        "## **Селекция признаков (кодирование категориальных признаков и их полезность)**\n",
        "\n",
        "Для этого упражнения я выбрала датасет \"Анализ портрета клиента\". "
      ],
      "metadata": {
        "id": "xYIpM9qu0giy"
      }
    },
    {
      "cell_type": "code",
      "execution_count": null,
      "metadata": {
        "colab": {
          "base_uri": "https://localhost:8080/"
        },
        "id": "sqkJ30Y00bNg",
        "outputId": "d3d2d4b0-cdcf-490e-ec79-0afea66abe04"
      },
      "outputs": [
        {
          "output_type": "stream",
          "name": "stdout",
          "text": [
            "Mounted at /content/drive\n"
          ]
        }
      ],
      "source": [
        "from google.colab import drive\n",
        "drive.mount('/content/drive')"
      ]
    },
    {
      "cell_type": "code",
      "source": [
        "import pandas as pd\n",
        "import seaborn as sns\n",
        "from sklearn import preprocessing\n"
      ],
      "metadata": {
        "id": "juEwNyYY07f5"
      },
      "execution_count": null,
      "outputs": []
    },
    {
      "cell_type": "code",
      "source": [
        "df = pd.read_csv('/content/drive/MyDrive/Colab Notebooks/marketing_campaign.csv', sep = '\\t')\n",
        "df = df.dropna()\n",
        "df.info()"
      ],
      "metadata": {
        "colab": {
          "base_uri": "https://localhost:8080/"
        },
        "id": "psL6pcKe1EEZ",
        "outputId": "7882fab2-1e8a-47db-f5dc-8d680b8412d4"
      },
      "execution_count": null,
      "outputs": [
        {
          "output_type": "stream",
          "name": "stdout",
          "text": [
            "<class 'pandas.core.frame.DataFrame'>\n",
            "Int64Index: 2216 entries, 0 to 2239\n",
            "Data columns (total 29 columns):\n",
            " #   Column               Non-Null Count  Dtype  \n",
            "---  ------               --------------  -----  \n",
            " 0   ID                   2216 non-null   int64  \n",
            " 1   Year_Birth           2216 non-null   int64  \n",
            " 2   Education            2216 non-null   object \n",
            " 3   Marital_Status       2216 non-null   object \n",
            " 4   Income               2216 non-null   float64\n",
            " 5   Kidhome              2216 non-null   int64  \n",
            " 6   Teenhome             2216 non-null   int64  \n",
            " 7   Dt_Customer          2216 non-null   object \n",
            " 8   Recency              2216 non-null   int64  \n",
            " 9   MntWines             2216 non-null   int64  \n",
            " 10  MntFruits            2216 non-null   int64  \n",
            " 11  MntMeatProducts      2216 non-null   int64  \n",
            " 12  MntFishProducts      2216 non-null   int64  \n",
            " 13  MntSweetProducts     2216 non-null   int64  \n",
            " 14  MntGoldProds         2216 non-null   int64  \n",
            " 15  NumDealsPurchases    2216 non-null   int64  \n",
            " 16  NumWebPurchases      2216 non-null   int64  \n",
            " 17  NumCatalogPurchases  2216 non-null   int64  \n",
            " 18  NumStorePurchases    2216 non-null   int64  \n",
            " 19  NumWebVisitsMonth    2216 non-null   int64  \n",
            " 20  AcceptedCmp3         2216 non-null   int64  \n",
            " 21  AcceptedCmp4         2216 non-null   int64  \n",
            " 22  AcceptedCmp5         2216 non-null   int64  \n",
            " 23  AcceptedCmp1         2216 non-null   int64  \n",
            " 24  AcceptedCmp2         2216 non-null   int64  \n",
            " 25  Complain             2216 non-null   int64  \n",
            " 26  Z_CostContact        2216 non-null   int64  \n",
            " 27  Z_Revenue            2216 non-null   int64  \n",
            " 28  Response             2216 non-null   int64  \n",
            "dtypes: float64(1), int64(25), object(3)\n",
            "memory usage: 519.4+ KB\n"
          ]
        }
      ]
    },
    {
      "cell_type": "code",
      "source": [
        "#все имеющиеся значения столбца Education\n",
        "#df['Education'].value_counts()"
      ],
      "metadata": {
        "id": "4sBVaCjdBixJ"
      },
      "execution_count": null,
      "outputs": []
    },
    {
      "cell_type": "code",
      "source": [
        "#Превращение категориальных признаков в числовые\n",
        "coder = preprocessing.LabelEncoder()      #создали кодер\n",
        "for name in ['Education', 'Marital_Status', 'Dt_Customer']: #все имеющиеся категориальные признаки\n",
        "  coder.fit(df[name])                     #подаем сюда столбец, который хотим преобразовать\n",
        "  df[name] = coder.transform(df[name])    #а здесь уже преобразуем этот столбец в числа и перезаписываем поверх оригинальных значений"
      ],
      "metadata": {
        "id": "9D6lzLbp8-wE"
      },
      "execution_count": null,
      "outputs": []
    },
    {
      "cell_type": "markdown",
      "source": [
        "В этот датасете было всего три категориальных признака (Dtype = object): \n",
        "*    ***Marital_Status*** - семейное положение\n",
        "*    ***Dt_Customer*** - дата регистрации клиента в компании\n",
        "*    ***Education*** - уровень образования\n",
        "\n",
        "Теперь они преобразованы в числовые и готовы участвовать в обучении модели.\n",
        "\n",
        "За **целевой признак** беру уровень образования - **Education.**"
      ],
      "metadata": {
        "id": "GqAm7iTE-CME"
      }
    },
    {
      "cell_type": "code",
      "source": [
        "df.info()"
      ],
      "metadata": {
        "id": "m0kwgjwRtS58",
        "colab": {
          "base_uri": "https://localhost:8080/"
        },
        "outputId": "81d1e73a-8e83-4b3e-e7e3-0d5f9833a750"
      },
      "execution_count": 16,
      "outputs": [
        {
          "output_type": "stream",
          "name": "stdout",
          "text": [
            "<class 'pandas.core.frame.DataFrame'>\n",
            "RangeIndex: 2240 entries, 0 to 2239\n",
            "Data columns (total 29 columns):\n",
            " #   Column               Non-Null Count  Dtype  \n",
            "---  ------               --------------  -----  \n",
            " 0   ID                   2240 non-null   int64  \n",
            " 1   Year_Birth           2240 non-null   int64  \n",
            " 2   Education            2240 non-null   object \n",
            " 3   Marital_Status       2240 non-null   object \n",
            " 4   Income               2216 non-null   float64\n",
            " 5   Kidhome              2240 non-null   int64  \n",
            " 6   Teenhome             2240 non-null   int64  \n",
            " 7   Dt_Customer          2240 non-null   object \n",
            " 8   Recency              2240 non-null   int64  \n",
            " 9   MntWines             2240 non-null   int64  \n",
            " 10  MntFruits            2240 non-null   int64  \n",
            " 11  MntMeatProducts      2240 non-null   int64  \n",
            " 12  MntFishProducts      2240 non-null   int64  \n",
            " 13  MntSweetProducts     2240 non-null   int64  \n",
            " 14  MntGoldProds         2240 non-null   int64  \n",
            " 15  NumDealsPurchases    2240 non-null   int64  \n",
            " 16  NumWebPurchases      2240 non-null   int64  \n",
            " 17  NumCatalogPurchases  2240 non-null   int64  \n",
            " 18  NumStorePurchases    2240 non-null   int64  \n",
            " 19  NumWebVisitsMonth    2240 non-null   int64  \n",
            " 20  AcceptedCmp3         2240 non-null   int64  \n",
            " 21  AcceptedCmp4         2240 non-null   int64  \n",
            " 22  AcceptedCmp5         2240 non-null   int64  \n",
            " 23  AcceptedCmp1         2240 non-null   int64  \n",
            " 24  AcceptedCmp2         2240 non-null   int64  \n",
            " 25  Complain             2240 non-null   int64  \n",
            " 26  Z_CostContact        2240 non-null   int64  \n",
            " 27  Z_Revenue            2240 non-null   int64  \n",
            " 28  Response             2240 non-null   int64  \n",
            "dtypes: float64(1), int64(25), object(3)\n",
            "memory usage: 507.6+ KB\n"
          ]
        }
      ]
    },
    {
      "cell_type": "markdown",
      "source": [
        "### **Узнаем важность каждого признака в задаче предсказания уровня образования клиента**\n",
        "\n",
        "Селекция признаков становится особенно актуальной, когда у нас очень много признаков и нужно определить самые ценные для нашей модели предсказания.\n",
        "\n",
        "Значимость признака измеряется не в вакууме, а относительно того, как он предсказывает уровень образования клиента."
      ],
      "metadata": {
        "id": "Wo2Ll3tKwiqc"
      }
    },
    {
      "cell_type": "code",
      "source": [
        "from sklearn.ensemble import ExtraTreesClassifier\n",
        "selector = ExtraTreesClassifier()    #создаю селектор\n",
        "result = selector.fit(df[df.columns], df['Education'])    #а потом подаю в него все столбцы. Через запятую указывается целевой признак.\n",
        "result.feature_importances_  #а эта команда выведет на экран значимость каждого из признаков в некоторой условной шкале"
      ],
      "metadata": {
        "colab": {
          "base_uri": "https://localhost:8080/"
        },
        "id": "eiMZNQy-w3x0",
        "outputId": "1f4ee100-4a3e-495e-a9f1-f7dad4328090"
      },
      "execution_count": null,
      "outputs": [
        {
          "output_type": "execute_result",
          "data": {
            "text/plain": [
              "array([0.01202764, 0.01733582, 0.70863964, 0.01218938, 0.01621868,\n",
              "       0.00675729, 0.00770418, 0.01459457, 0.0134093 , 0.02262071,\n",
              "       0.01785865, 0.01465575, 0.01750883, 0.01733111, 0.01854083,\n",
              "       0.01108122, 0.01243588, 0.0115755 , 0.01252594, 0.01333309,\n",
              "       0.00420274, 0.00350328, 0.00288488, 0.00321127, 0.00124002,\n",
              "       0.0010978 , 0.        , 0.        , 0.005516  ])"
            ]
          },
          "metadata": {},
          "execution_count": 11
        }
      ]
    },
    {
      "cell_type": "markdown",
      "source": [
        "Понятно, что в таком виде очень сложно представлять информацию. Поэтому представим эти данные в понятном табличном виде:"
      ],
      "metadata": {
        "id": "mAGG6Yav65l-"
      }
    },
    {
      "cell_type": "code",
      "source": [
        "features_table = pd.DataFrame(result.feature_importances_, #создаю датафрейм и закидываю в него полученные числа\n",
        "                              index = df.columns,          #в качестве индексов назначаю названия признаков\n",
        "                              columns = ['importance'])    #задаю имя единственному столбцу нового датафрейма "
      ],
      "metadata": {
        "id": "oN5mPQQd7JXq"
      },
      "execution_count": null,
      "outputs": []
    },
    {
      "cell_type": "code",
      "source": [
        "features_table.sort_values(by = 'importance', ascending = False)   #для наглядности отсортирую строки по убыванию"
      ],
      "metadata": {
        "colab": {
          "base_uri": "https://localhost:8080/",
          "height": 959
        },
        "id": "uQRw5KUJ7nPa",
        "outputId": "ce2c051f-748d-4c66-8b95-78db73f86b54"
      },
      "execution_count": null,
      "outputs": [
        {
          "output_type": "execute_result",
          "data": {
            "text/plain": [
              "                     importance\n",
              "Education              0.708640\n",
              "MntWines               0.022621\n",
              "MntGoldProds           0.018541\n",
              "MntFruits              0.017859\n",
              "MntFishProducts        0.017509\n",
              "Year_Birth             0.017336\n",
              "MntSweetProducts       0.017331\n",
              "Income                 0.016219\n",
              "MntMeatProducts        0.014656\n",
              "Dt_Customer            0.014595\n",
              "Recency                0.013409\n",
              "NumWebVisitsMonth      0.013333\n",
              "NumStorePurchases      0.012526\n",
              "NumWebPurchases        0.012436\n",
              "Marital_Status         0.012189\n",
              "ID                     0.012028\n",
              "NumCatalogPurchases    0.011575\n",
              "NumDealsPurchases      0.011081\n",
              "Teenhome               0.007704\n",
              "Kidhome                0.006757\n",
              "Response               0.005516\n",
              "AcceptedCmp3           0.004203\n",
              "AcceptedCmp4           0.003503\n",
              "AcceptedCmp1           0.003211\n",
              "AcceptedCmp5           0.002885\n",
              "AcceptedCmp2           0.001240\n",
              "Complain               0.001098\n",
              "Z_CostContact          0.000000\n",
              "Z_Revenue              0.000000"
            ],
            "text/html": [
              "\n",
              "  <div id=\"df-14f0fc50-7ad8-4b67-a946-b9ecfe36fa6e\">\n",
              "    <div class=\"colab-df-container\">\n",
              "      <div>\n",
              "<style scoped>\n",
              "    .dataframe tbody tr th:only-of-type {\n",
              "        vertical-align: middle;\n",
              "    }\n",
              "\n",
              "    .dataframe tbody tr th {\n",
              "        vertical-align: top;\n",
              "    }\n",
              "\n",
              "    .dataframe thead th {\n",
              "        text-align: right;\n",
              "    }\n",
              "</style>\n",
              "<table border=\"1\" class=\"dataframe\">\n",
              "  <thead>\n",
              "    <tr style=\"text-align: right;\">\n",
              "      <th></th>\n",
              "      <th>importance</th>\n",
              "    </tr>\n",
              "  </thead>\n",
              "  <tbody>\n",
              "    <tr>\n",
              "      <th>Education</th>\n",
              "      <td>0.708640</td>\n",
              "    </tr>\n",
              "    <tr>\n",
              "      <th>MntWines</th>\n",
              "      <td>0.022621</td>\n",
              "    </tr>\n",
              "    <tr>\n",
              "      <th>MntGoldProds</th>\n",
              "      <td>0.018541</td>\n",
              "    </tr>\n",
              "    <tr>\n",
              "      <th>MntFruits</th>\n",
              "      <td>0.017859</td>\n",
              "    </tr>\n",
              "    <tr>\n",
              "      <th>MntFishProducts</th>\n",
              "      <td>0.017509</td>\n",
              "    </tr>\n",
              "    <tr>\n",
              "      <th>Year_Birth</th>\n",
              "      <td>0.017336</td>\n",
              "    </tr>\n",
              "    <tr>\n",
              "      <th>MntSweetProducts</th>\n",
              "      <td>0.017331</td>\n",
              "    </tr>\n",
              "    <tr>\n",
              "      <th>Income</th>\n",
              "      <td>0.016219</td>\n",
              "    </tr>\n",
              "    <tr>\n",
              "      <th>MntMeatProducts</th>\n",
              "      <td>0.014656</td>\n",
              "    </tr>\n",
              "    <tr>\n",
              "      <th>Dt_Customer</th>\n",
              "      <td>0.014595</td>\n",
              "    </tr>\n",
              "    <tr>\n",
              "      <th>Recency</th>\n",
              "      <td>0.013409</td>\n",
              "    </tr>\n",
              "    <tr>\n",
              "      <th>NumWebVisitsMonth</th>\n",
              "      <td>0.013333</td>\n",
              "    </tr>\n",
              "    <tr>\n",
              "      <th>NumStorePurchases</th>\n",
              "      <td>0.012526</td>\n",
              "    </tr>\n",
              "    <tr>\n",
              "      <th>NumWebPurchases</th>\n",
              "      <td>0.012436</td>\n",
              "    </tr>\n",
              "    <tr>\n",
              "      <th>Marital_Status</th>\n",
              "      <td>0.012189</td>\n",
              "    </tr>\n",
              "    <tr>\n",
              "      <th>ID</th>\n",
              "      <td>0.012028</td>\n",
              "    </tr>\n",
              "    <tr>\n",
              "      <th>NumCatalogPurchases</th>\n",
              "      <td>0.011575</td>\n",
              "    </tr>\n",
              "    <tr>\n",
              "      <th>NumDealsPurchases</th>\n",
              "      <td>0.011081</td>\n",
              "    </tr>\n",
              "    <tr>\n",
              "      <th>Teenhome</th>\n",
              "      <td>0.007704</td>\n",
              "    </tr>\n",
              "    <tr>\n",
              "      <th>Kidhome</th>\n",
              "      <td>0.006757</td>\n",
              "    </tr>\n",
              "    <tr>\n",
              "      <th>Response</th>\n",
              "      <td>0.005516</td>\n",
              "    </tr>\n",
              "    <tr>\n",
              "      <th>AcceptedCmp3</th>\n",
              "      <td>0.004203</td>\n",
              "    </tr>\n",
              "    <tr>\n",
              "      <th>AcceptedCmp4</th>\n",
              "      <td>0.003503</td>\n",
              "    </tr>\n",
              "    <tr>\n",
              "      <th>AcceptedCmp1</th>\n",
              "      <td>0.003211</td>\n",
              "    </tr>\n",
              "    <tr>\n",
              "      <th>AcceptedCmp5</th>\n",
              "      <td>0.002885</td>\n",
              "    </tr>\n",
              "    <tr>\n",
              "      <th>AcceptedCmp2</th>\n",
              "      <td>0.001240</td>\n",
              "    </tr>\n",
              "    <tr>\n",
              "      <th>Complain</th>\n",
              "      <td>0.001098</td>\n",
              "    </tr>\n",
              "    <tr>\n",
              "      <th>Z_CostContact</th>\n",
              "      <td>0.000000</td>\n",
              "    </tr>\n",
              "    <tr>\n",
              "      <th>Z_Revenue</th>\n",
              "      <td>0.000000</td>\n",
              "    </tr>\n",
              "  </tbody>\n",
              "</table>\n",
              "</div>\n",
              "      <button class=\"colab-df-convert\" onclick=\"convertToInteractive('df-14f0fc50-7ad8-4b67-a946-b9ecfe36fa6e')\"\n",
              "              title=\"Convert this dataframe to an interactive table.\"\n",
              "              style=\"display:none;\">\n",
              "        \n",
              "  <svg xmlns=\"http://www.w3.org/2000/svg\" height=\"24px\"viewBox=\"0 0 24 24\"\n",
              "       width=\"24px\">\n",
              "    <path d=\"M0 0h24v24H0V0z\" fill=\"none\"/>\n",
              "    <path d=\"M18.56 5.44l.94 2.06.94-2.06 2.06-.94-2.06-.94-.94-2.06-.94 2.06-2.06.94zm-11 1L8.5 8.5l.94-2.06 2.06-.94-2.06-.94L8.5 2.5l-.94 2.06-2.06.94zm10 10l.94 2.06.94-2.06 2.06-.94-2.06-.94-.94-2.06-.94 2.06-2.06.94z\"/><path d=\"M17.41 7.96l-1.37-1.37c-.4-.4-.92-.59-1.43-.59-.52 0-1.04.2-1.43.59L10.3 9.45l-7.72 7.72c-.78.78-.78 2.05 0 2.83L4 21.41c.39.39.9.59 1.41.59.51 0 1.02-.2 1.41-.59l7.78-7.78 2.81-2.81c.8-.78.8-2.07 0-2.86zM5.41 20L4 18.59l7.72-7.72 1.47 1.35L5.41 20z\"/>\n",
              "  </svg>\n",
              "      </button>\n",
              "      \n",
              "  <style>\n",
              "    .colab-df-container {\n",
              "      display:flex;\n",
              "      flex-wrap:wrap;\n",
              "      gap: 12px;\n",
              "    }\n",
              "\n",
              "    .colab-df-convert {\n",
              "      background-color: #E8F0FE;\n",
              "      border: none;\n",
              "      border-radius: 50%;\n",
              "      cursor: pointer;\n",
              "      display: none;\n",
              "      fill: #1967D2;\n",
              "      height: 32px;\n",
              "      padding: 0 0 0 0;\n",
              "      width: 32px;\n",
              "    }\n",
              "\n",
              "    .colab-df-convert:hover {\n",
              "      background-color: #E2EBFA;\n",
              "      box-shadow: 0px 1px 2px rgba(60, 64, 67, 0.3), 0px 1px 3px 1px rgba(60, 64, 67, 0.15);\n",
              "      fill: #174EA6;\n",
              "    }\n",
              "\n",
              "    [theme=dark] .colab-df-convert {\n",
              "      background-color: #3B4455;\n",
              "      fill: #D2E3FC;\n",
              "    }\n",
              "\n",
              "    [theme=dark] .colab-df-convert:hover {\n",
              "      background-color: #434B5C;\n",
              "      box-shadow: 0px 1px 3px 1px rgba(0, 0, 0, 0.15);\n",
              "      filter: drop-shadow(0px 1px 2px rgba(0, 0, 0, 0.3));\n",
              "      fill: #FFFFFF;\n",
              "    }\n",
              "  </style>\n",
              "\n",
              "      <script>\n",
              "        const buttonEl =\n",
              "          document.querySelector('#df-14f0fc50-7ad8-4b67-a946-b9ecfe36fa6e button.colab-df-convert');\n",
              "        buttonEl.style.display =\n",
              "          google.colab.kernel.accessAllowed ? 'block' : 'none';\n",
              "\n",
              "        async function convertToInteractive(key) {\n",
              "          const element = document.querySelector('#df-14f0fc50-7ad8-4b67-a946-b9ecfe36fa6e');\n",
              "          const dataTable =\n",
              "            await google.colab.kernel.invokeFunction('convertToInteractive',\n",
              "                                                     [key], {});\n",
              "          if (!dataTable) return;\n",
              "\n",
              "          const docLinkHtml = 'Like what you see? Visit the ' +\n",
              "            '<a target=\"_blank\" href=https://colab.research.google.com/notebooks/data_table.ipynb>data table notebook</a>'\n",
              "            + ' to learn more about interactive tables.';\n",
              "          element.innerHTML = '';\n",
              "          dataTable['output_type'] = 'display_data';\n",
              "          await google.colab.output.renderOutput(dataTable, element);\n",
              "          const docLink = document.createElement('div');\n",
              "          docLink.innerHTML = docLinkHtml;\n",
              "          element.appendChild(docLink);\n",
              "        }\n",
              "      </script>\n",
              "    </div>\n",
              "  </div>\n",
              "  "
            ]
          },
          "metadata": {},
          "execution_count": 14
        }
      ]
    },
    {
      "cell_type": "markdown",
      "source": [
        "А дальше нужно оставить лишь несколько признаков из топа по значимости и по ним тренировать модель. Допустим, я хочу оставить 9 признаков:\n",
        "*  MntWines\t0.022621\n",
        "*  MntGoldProds\t0.018541\n",
        "*  MntFruits\t0.017859\n",
        "*  MntFishProducts\t0.017509\n",
        "*  Year_Birth\t0.017336\n",
        "*  MntSweetProducts\t0.017331\n",
        "*  Income\t0.016219\n",
        "*  MntMeatProducts\t0.014656\n",
        "*  Dt_Customer\t0.014595\n",
        "\n",
        "И дальше можно переходить к выбору и обучению ML-модели."
      ],
      "metadata": {
        "id": "n7cxxEQz9oaj"
      }
    }
  ]
}