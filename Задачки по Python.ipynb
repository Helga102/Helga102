{
 "cells": [
  {
   "cell_type": "markdown",
   "id": "f400d4a4",
   "metadata": {},
   "source": [
    "### №110. Порядок сортировки\n",
    "Напишите программу, которая будет запрашивать у пользователя целочисленные значения и сохранять их в виде списка. Индикатором окончания ввода значений должен служить ноль. Затем программа должна вывести на экран все введенные пользователем числа (кроме нуля) в порядке возрастания – по одному значению в строке. Используйте для сортировки либо метод sort, либо функцию sorted."
   ]
  },
  {
   "cell_type": "code",
   "execution_count": 2,
   "id": "ba57fe99",
   "metadata": {},
   "outputs": [
    {
     "name": "stdout",
     "output_type": "stream",
     "text": [
      "Enter numbers: 7\n",
      "Enter numbers: 3\n",
      "Enter numbers: 13\n",
      "Enter numbers: 11\n",
      "Enter numbers: 0\n",
      "3\n",
      "7\n",
      "11\n",
      "13\n"
     ]
    }
   ],
   "source": [
    "new_number = 1\n",
    "numbers = []\n",
    "while new_number != 0:\n",
    "    new_number = int(input(f\"Enter numbers: \"))\n",
    "    if new_number == 0:\n",
    "        break\n",
    "    else:\n",
    "        numbers.append(new_number) #складываю числа в список\n",
    "numbers.sort()\n",
    "for number in numbers:\n",
    "    print(number)"
   ]
  },
  {
   "cell_type": "markdown",
   "id": "e4b31b37",
   "metadata": {},
   "source": [
    "### №112. Удаляем выбросы\n",
    "При анализе собранных по результатам научных экспериментов данных зачастую возникает необходимость избавиться от экстремальных значений, прежде чем продолжать двигаться дальше. Напишите функцию, создающую копию списка с исключенными из него n наибольшими и наименьшими значениями и возвращающую ее в качестве результата. Порядок следования элементов в измененном списке не обязательно должен в точности совпадать с источником.\n",
    "В основной программе должна быть продемонстрирована работа вашей функции. Для начала попросите пользователя ввести целые числа, затем соберите их в список и вызовите написанную вами ранее функцию. Выведите на экран измененную версию списка вместе с оригинальной. Если пользователь введет менее четырех чисел, должно быть отображено соответствующее сообщение об ошибке."
   ]
  },
  {
   "cell_type": "code",
   "execution_count": 4,
   "id": "1b303adf",
   "metadata": {},
   "outputs": [
    {
     "name": "stdout",
     "output_type": "stream",
     "text": [
      "Enter numbers separated by commas: 5,1,0,8,4,6,13,10\n",
      "Original list: [5, 1, 0, 8, 4, 6, 13, 10]\n",
      "Modified list: [4, 5, 6, 8]\n"
     ]
    }
   ],
   "source": [
    "def cleaning(original_list, num_outliers):\n",
    "    print(f\"Original list: {original_list}\")\n",
    "    modified_list = sorted(original_list)\n",
    "    for i in range(num_outliers):\n",
    "        modified_list.pop(0)\n",
    "        modified_list.pop()\n",
    "    print(f\"Modified list: {modified_list}\")\n",
    "\n",
    "numbers = list(map(int, input('Enter numbers separated by commas: ').split(',')))\n",
    "if len(numbers) > 4:\n",
    "    cleaning(numbers,2) #вызов функции удаления двух макс.и мин. значений\n",
    "else:\n",
    "    print('You entered less than 4 numbers')\n"
   ]
  },
  {
   "cell_type": "markdown",
   "id": "2fb90687",
   "metadata": {},
   "source": [
    "### №113. Избавляемся от дубликатов\n",
    "В данном упражнении вам предстоит разработать программу, в которой у  пользователя будет запрошен список слов, пока он не оставит строку ввода пустой. После этого на экране должны быть показаны слова, введенные пользователем, но без повторов, – каждое по одному разу. При этом слова должны быть отображены в том же порядке, в  каком их вводили с клавиатуры. Например, если пользователь на запрос программы введет следующий список слов:  \n",
    "first  \n",
    "second  \n",
    "first  \n",
    "third  \n",
    "second\n",
    "\n",
    "программа должна вывести:  \n",
    "first  \n",
    "second  \n",
    "third"
   ]
  },
  {
   "cell_type": "code",
   "execution_count": 1,
   "id": "0c4480af",
   "metadata": {},
   "outputs": [
    {
     "name": "stdout",
     "output_type": "stream",
     "text": [
      "Enter your word: Женя\n",
      "Enter your word: Оля\n",
      "Enter your word: Женя\n",
      "Enter your word: Руся\n",
      "Enter your word: Оля\n",
      "Enter your word: Оля\n",
      "Enter your word: \n",
      "Женя\n",
      "Оля\n",
      "Руся\n"
     ]
    }
   ],
   "source": [
    "words = []\n",
    "word = input('Enter your word: ')\n",
    "while word != '':\n",
    "    if word not in words:\n",
    "        words.append(word)\n",
    "    word = input('Enter your word: ')\n",
    "for word in words:\n",
    "    print(word)"
   ]
  },
  {
   "cell_type": "code",
   "execution_count": null,
   "id": "99e95233",
   "metadata": {},
   "outputs": [],
   "source": []
  }
 ],
 "metadata": {
  "kernelspec": {
   "display_name": "Python 3 (ipykernel)",
   "language": "python",
   "name": "python3"
  },
  "language_info": {
   "codemirror_mode": {
    "name": "ipython",
    "version": 3
   },
   "file_extension": ".py",
   "mimetype": "text/x-python",
   "name": "python",
   "nbconvert_exporter": "python",
   "pygments_lexer": "ipython3",
   "version": "3.9.7"
  }
 },
 "nbformat": 4,
 "nbformat_minor": 5
}
